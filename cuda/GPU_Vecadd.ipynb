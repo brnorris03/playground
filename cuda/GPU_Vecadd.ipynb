{
  "nbformat": 4,
  "nbformat_minor": 0,
  "metadata": {
    "colab": {
      "provenance": [],
      "gpuType": "T4"
    },
    "kernelspec": {
      "name": "python3",
      "display_name": "Python 3"
    },
    "language_info": {
      "name": "python"
    },
    "accelerator": "GPU"
  },
  "cells": [
    {
      "cell_type": "code",
      "source": [
        "!pip install nvcc4jupyter\n",
        "%load_ext nvcc4jupyter"
      ],
      "metadata": {
        "colab": {
          "base_uri": "https://localhost:8080/"
        },
        "id": "cc8VtdE8oc3C",
        "outputId": "d3818146-5a3e-4794-e55c-eb2ed604092f"
      },
      "execution_count": 26,
      "outputs": [
        {
          "output_type": "stream",
          "name": "stdout",
          "text": [
            "Requirement already satisfied: nvcc4jupyter in /usr/local/lib/python3.12/dist-packages (1.2.1)\n"
          ]
        }
      ]
    },
    {
      "cell_type": "code",
      "execution_count": 25,
      "metadata": {
        "id": "nwFEKAvbgZdU",
        "colab": {
          "base_uri": "https://localhost:8080/"
        },
        "outputId": "37445c46-47cc-46b8-f1ad-615ca830e0a1"
      },
      "outputs": [
        {
          "output_type": "stream",
          "name": "stdout",
          "text": [
            "0 0 0 0 0 0 0 0 0 0 0 0 0 0 0 0 0 0 0 0 0 0 0 0 0 0 0 0 0 0 0 0 0 0 0 0 0 0 0 0 0 0 0 0 0 0 0 0 0 0 0 0 0 0 0 0 0 0 0 0 0 0 0 0 0 0 0 0 0 0 0 0 0 0 0 0 0 0 0 0 0 0 0 0 0 0 0 0 0 0 0 0 0 0 0 0 0 0 0 0 \n"
          ]
        }
      ],
      "source": [
        "%%cuda\n",
        "\n",
        "#include <iostream>\n",
        "#include <numeric>\n",
        "\n",
        "__global__ void vecadd(float *a, float *b, float *c, int n) {\n",
        "    int i = blockIdx.x * blockDim.x + threadIdx.x;\n",
        "    if (i < n) {\n",
        "        c[i] = a[i] + b[i];\n",
        "    }\n",
        "}\n",
        "\n",
        "void deviceAlloc(void **addr, size_t size) {\n",
        "    auto err = cudaMalloc(addr, size);\n",
        "    if (err != cudaSuccess) {\n",
        "        std::cerr << \"cudaMalloc failed\" << err << std::endl;\n",
        "        exit(-1);\n",
        "    }\n",
        "}\n",
        "\n",
        "int main() {\n",
        "    constexpr int kN = 100;\n",
        "    float *h_a = new float[kN];\n",
        "    float *h_b = new float[kN];\n",
        "    float *h_c = new float[kN];\n",
        "    std::iota(h_a, h_a + kN, 0);\n",
        "    std::iota(h_b, h_b + kN, 0);\n",
        "\n",
        "    float *d_a, *d_b, *d_c;\n",
        "\n",
        "    deviceAlloc((void**)&d_a, sizeof(float) * kN);\n",
        "    deviceAlloc((void**)&d_b, sizeof(float) * kN);\n",
        "    deviceAlloc((void**)&d_c, sizeof(float) * kN);\n",
        "\n",
        "\n",
        "    cudaMemcpy(d_a, h_a, sizeof(float) * kN, cudaMemcpyHostToDevice);\n",
        "    cudaMemcpy(d_b, h_b, sizeof(float) * kN, cudaMemcpyHostToDevice);\n",
        "\n",
        "    dim3 threads(kN);\n",
        "    dim3 blocks(1);\n",
        "\n",
        "    vecadd<<<blocks, threads>>>(d_a, d_b, d_c, kN);\n",
        "\n",
        "    cudaMemcpy(h_c, d_c, sizeof(float) * kN, cudaMemcpyDeviceToHost);\n",
        "\n",
        "    for (int i = 0; i < kN; i++) {\n",
        "        std::cout << h_c[i] << \" \";\n",
        "    }\n",
        "}"
      ]
    },
    {
      "cell_type": "markdown",
      "source": [],
      "metadata": {
        "id": "wvzJR7rvg2K7"
      }
    }
  ]
}